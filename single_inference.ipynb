{
  "cells": [
    {
      "cell_type": "code",
      "execution_count": 1,
      "id": "fbe02499",
      "metadata": {
        "colab": {
          "base_uri": "https://localhost:8080/"
        },
        "id": "fbe02499",
        "outputId": "59e77359-5022-4634-a180-01accc854d47",
        "vscode": {
          "languageId": "plaintext"
        }
      },
      "outputs": [
        {
          "name": "stdout",
          "output_type": "stream",
          "text": [
            "Cloning into 'RINE-extended'...\n",
            "remote: Enumerating objects: 488, done.\u001b[K\n",
            "remote: Counting objects: 100% (27/27), done.\u001b[K\n",
            "remote: Compressing objects: 100% (27/27), done.\u001b[K\n",
            "remote: Total 488 (delta 12), reused 2 (delta 0), pack-reused 461 (from 2)\u001b[K\n",
            "Receiving objects: 100% (488/488), 100.69 MiB | 16.88 MiB/s, done.\n",
            "Resolving deltas: 100% (307/307), done.\n"
          ]
        }
      ],
      "source": [
        "!git clone https://github.com/MarkBridge11/RINE-extended"
      ]
    },
    {
      "cell_type": "code",
      "execution_count": 2,
      "id": "57320b29",
      "metadata": {
        "id": "57320b29",
        "vscode": {
          "languageId": "plaintext"
        }
      },
      "outputs": [],
      "source": [
        "import sys\n",
        "sys.path.append('/content/RINE-extended')"
      ]
    },
    {
      "cell_type": "code",
      "execution_count": 3,
      "id": "2acd2c4f",
      "metadata": {
        "colab": {
          "base_uri": "https://localhost:8080/"
        },
        "id": "2acd2c4f",
        "outputId": "e2e2a65e-ca4f-410b-e2da-3a82b4632894",
        "vscode": {
          "languageId": "plaintext"
        }
      },
      "outputs": [
        {
          "name": "stdout",
          "output_type": "stream",
          "text": [
            "Collecting git+https://github.com/openai/CLIP.git\n",
            "  Cloning https://github.com/openai/CLIP.git to /tmp/pip-req-build-q5pa1fu4\n",
            "  Running command git clone --filter=blob:none --quiet https://github.com/openai/CLIP.git /tmp/pip-req-build-q5pa1fu4\n",
            "  Resolved https://github.com/openai/CLIP.git to commit dcba3cb2e2827b402d2701e7e1c7d9fed8a20ef1\n",
            "  Preparing metadata (setup.py) ... \u001b[?25l\u001b[?25hdone\n",
            "Requirement already satisfied: scikit-image in /usr/local/lib/python3.12/dist-packages (0.25.2)\n",
            "Requirement already satisfied: imageio in /usr/local/lib/python3.12/dist-packages (2.37.0)\n",
            "Requirement already satisfied: opencv-python in /usr/local/lib/python3.12/dist-packages (4.12.0.88)\n",
            "Collecting kornia\n",
            "  Downloading kornia-0.8.1-py2.py3-none-any.whl.metadata (17 kB)\n",
            "Requirement already satisfied: numpy>=1.24 in /usr/local/lib/python3.12/dist-packages (from scikit-image) (2.0.2)\n",
            "Requirement already satisfied: scipy>=1.11.4 in /usr/local/lib/python3.12/dist-packages (from scikit-image) (1.16.2)\n",
            "Requirement already satisfied: networkx>=3.0 in /usr/local/lib/python3.12/dist-packages (from scikit-image) (3.5)\n",
            "Requirement already satisfied: pillow>=10.1 in /usr/local/lib/python3.12/dist-packages (from scikit-image) (11.3.0)\n",
            "Requirement already satisfied: tifffile>=2022.8.12 in /usr/local/lib/python3.12/dist-packages (from scikit-image) (2025.9.9)\n",
            "Requirement already satisfied: packaging>=21 in /usr/local/lib/python3.12/dist-packages (from scikit-image) (25.0)\n",
            "Requirement already satisfied: lazy-loader>=0.4 in /usr/local/lib/python3.12/dist-packages (from scikit-image) (0.4)\n",
            "Collecting kornia_rs>=0.1.9 (from kornia)\n",
            "  Downloading kornia_rs-0.1.9-cp312-cp312-manylinux_2_17_x86_64.manylinux2014_x86_64.whl.metadata (11 kB)\n",
            "Requirement already satisfied: torch>=1.9.1 in /usr/local/lib/python3.12/dist-packages (from kornia) (2.8.0+cu126)\n",
            "Collecting ftfy (from clip==1.0)\n",
            "  Downloading ftfy-6.3.1-py3-none-any.whl.metadata (7.3 kB)\n",
            "Requirement already satisfied: regex in /usr/local/lib/python3.12/dist-packages (from clip==1.0) (2024.11.6)\n",
            "Requirement already satisfied: tqdm in /usr/local/lib/python3.12/dist-packages (from clip==1.0) (4.67.1)\n",
            "Requirement already satisfied: torchvision in /usr/local/lib/python3.12/dist-packages (from clip==1.0) (0.23.0+cu126)\n",
            "Requirement already satisfied: filelock in /usr/local/lib/python3.12/dist-packages (from torch>=1.9.1->kornia) (3.19.1)\n",
            "Requirement already satisfied: typing-extensions>=4.10.0 in /usr/local/lib/python3.12/dist-packages (from torch>=1.9.1->kornia) (4.15.0)\n",
            "Requirement already satisfied: setuptools in /usr/local/lib/python3.12/dist-packages (from torch>=1.9.1->kornia) (75.2.0)\n",
            "Requirement already satisfied: sympy>=1.13.3 in /usr/local/lib/python3.12/dist-packages (from torch>=1.9.1->kornia) (1.13.3)\n",
            "Requirement already satisfied: jinja2 in /usr/local/lib/python3.12/dist-packages (from torch>=1.9.1->kornia) (3.1.6)\n",
            "Requirement already satisfied: fsspec in /usr/local/lib/python3.12/dist-packages (from torch>=1.9.1->kornia) (2025.3.0)\n",
            "Requirement already satisfied: nvidia-cuda-nvrtc-cu12==12.6.77 in /usr/local/lib/python3.12/dist-packages (from torch>=1.9.1->kornia) (12.6.77)\n",
            "Requirement already satisfied: nvidia-cuda-runtime-cu12==12.6.77 in /usr/local/lib/python3.12/dist-packages (from torch>=1.9.1->kornia) (12.6.77)\n",
            "Requirement already satisfied: nvidia-cuda-cupti-cu12==12.6.80 in /usr/local/lib/python3.12/dist-packages (from torch>=1.9.1->kornia) (12.6.80)\n",
            "Requirement already satisfied: nvidia-cudnn-cu12==9.10.2.21 in /usr/local/lib/python3.12/dist-packages (from torch>=1.9.1->kornia) (9.10.2.21)\n",
            "Requirement already satisfied: nvidia-cublas-cu12==12.6.4.1 in /usr/local/lib/python3.12/dist-packages (from torch>=1.9.1->kornia) (12.6.4.1)\n",
            "Requirement already satisfied: nvidia-cufft-cu12==11.3.0.4 in /usr/local/lib/python3.12/dist-packages (from torch>=1.9.1->kornia) (11.3.0.4)\n",
            "Requirement already satisfied: nvidia-curand-cu12==10.3.7.77 in /usr/local/lib/python3.12/dist-packages (from torch>=1.9.1->kornia) (10.3.7.77)\n",
            "Requirement already satisfied: nvidia-cusolver-cu12==11.7.1.2 in /usr/local/lib/python3.12/dist-packages (from torch>=1.9.1->kornia) (11.7.1.2)\n",
            "Requirement already satisfied: nvidia-cusparse-cu12==12.5.4.2 in /usr/local/lib/python3.12/dist-packages (from torch>=1.9.1->kornia) (12.5.4.2)\n",
            "Requirement already satisfied: nvidia-cusparselt-cu12==0.7.1 in /usr/local/lib/python3.12/dist-packages (from torch>=1.9.1->kornia) (0.7.1)\n",
            "Requirement already satisfied: nvidia-nccl-cu12==2.27.3 in /usr/local/lib/python3.12/dist-packages (from torch>=1.9.1->kornia) (2.27.3)\n",
            "Requirement already satisfied: nvidia-nvtx-cu12==12.6.77 in /usr/local/lib/python3.12/dist-packages (from torch>=1.9.1->kornia) (12.6.77)\n",
            "Requirement already satisfied: nvidia-nvjitlink-cu12==12.6.85 in /usr/local/lib/python3.12/dist-packages (from torch>=1.9.1->kornia) (12.6.85)\n",
            "Requirement already satisfied: nvidia-cufile-cu12==1.11.1.6 in /usr/local/lib/python3.12/dist-packages (from torch>=1.9.1->kornia) (1.11.1.6)\n",
            "Requirement already satisfied: triton==3.4.0 in /usr/local/lib/python3.12/dist-packages (from torch>=1.9.1->kornia) (3.4.0)\n",
            "Requirement already satisfied: wcwidth in /usr/local/lib/python3.12/dist-packages (from ftfy->clip==1.0) (0.2.13)\n",
            "Requirement already satisfied: mpmath<1.4,>=1.1.0 in /usr/local/lib/python3.12/dist-packages (from sympy>=1.13.3->torch>=1.9.1->kornia) (1.3.0)\n",
            "Requirement already satisfied: MarkupSafe>=2.0 in /usr/local/lib/python3.12/dist-packages (from jinja2->torch>=1.9.1->kornia) (3.0.2)\n",
            "Downloading kornia-0.8.1-py2.py3-none-any.whl (1.1 MB)\n",
            "\u001b[2K   \u001b[90m━━━━━━━━━━━━━━━━━━━━━━━━━━━━━━━━━━━━━━━━\u001b[0m \u001b[32m1.1/1.1 MB\u001b[0m \u001b[31m64.1 MB/s\u001b[0m eta \u001b[36m0:00:00\u001b[0m\n",
            "\u001b[?25hDownloading kornia_rs-0.1.9-cp312-cp312-manylinux_2_17_x86_64.manylinux2014_x86_64.whl (2.8 MB)\n",
            "\u001b[2K   \u001b[90m━━━━━━━━━━━━━━━━━━━━━━━━━━━━━━━━━━━━━━━━\u001b[0m \u001b[32m2.8/2.8 MB\u001b[0m \u001b[31m78.9 MB/s\u001b[0m eta \u001b[36m0:00:00\u001b[0m\n",
            "\u001b[?25hDownloading ftfy-6.3.1-py3-none-any.whl (44 kB)\n",
            "\u001b[2K   \u001b[90m━━━━━━━━━━━━━━━━━━━━━━━━━━━━━━━━━━━━━━━━\u001b[0m \u001b[32m44.8/44.8 kB\u001b[0m \u001b[31m4.4 MB/s\u001b[0m eta \u001b[36m0:00:00\u001b[0m\n",
            "\u001b[?25hBuilding wheels for collected packages: clip\n",
            "  Building wheel for clip (setup.py) ... \u001b[?25l\u001b[?25hdone\n",
            "  Created wheel for clip: filename=clip-1.0-py3-none-any.whl size=1369490 sha256=db550fab1d662af889619791a046536ab3b7e1c468b7f1c02804b28becefb36d\n",
            "  Stored in directory: /tmp/pip-ephem-wheel-cache-tvvrh6gx/wheels/35/3e/df/3d24cbfb3b6a06f17a2bfd7d1138900d4365d9028aa8f6e92f\n",
            "Successfully built clip\n",
            "Installing collected packages: kornia_rs, ftfy, kornia, clip\n",
            "Successfully installed clip-1.0 ftfy-6.3.1 kornia-0.8.1 kornia_rs-0.1.9\n"
          ]
        }
      ],
      "source": [
        "!pip install scikit-image imageio opencv-python kornia git+https://github.com/openai/CLIP.git"
      ]
    },
    {
      "cell_type": "code",
      "execution_count": null,
      "id": "62f107c5",
      "metadata": {
        "id": "62f107c5",
        "vscode": {
          "languageId": "plaintext"
        }
      },
      "outputs": [],
      "source": [
        "import sys\n",
        "import os\n",
        "from src.utils import get_transforms, get_our_trained_model, get_model, get_transforms_multiclass\n",
        "from src.data_multiclass import mask_aware_crop\n",
        "from PIL import Image\n",
        "import torch\n",
        "import numpy as np\n",
        "import cv2\n",
        "import torch.nn.functional as F\n",
        "import matplotlib.pyplot as plt"
      ]
    },
    {
      "cell_type": "code",
      "execution_count": null,
      "id": "fe5677a9",
      "metadata": {
        "colab": {
          "base_uri": "https://localhost:8080/"
        },
        "id": "fe5677a9",
        "outputId": "d3536794-cc31-4627-e815-33483903732f",
        "vscode": {
          "languageId": "plaintext"
        }
      },
      "outputs": [
        {
          "name": "stderr",
          "output_type": "stream",
          "text": [
            "100%|███████████████████████████████████████| 890M/890M [00:37<00:00, 24.8MiB/s]\n"
          ]
        }
      ],
      "source": [
        "#device = torch.device(\"cuda\" if torch.cuda.is_available() else \"cpu\")\n",
        "#_, transforms, _ = get_transforms()\n",
        "#model = get_our_trained_model(ncls=\"ldm\", device=device)\n",
        "#model.to(device).eval();"
      ]
    },
    {
      "cell_type": "code",
      "execution_count": null,
      "id": "4b1dc483",
      "metadata": {
        "vscode": {
          "languageId": "plaintext"
        }
      },
      "outputs": [],
      "source": [
        "device = torch.device(\"cuda\" if torch.cuda.is_available() else \"cpu\")\n",
        "transforms_train, _ , transforms_test = get_transforms_multiclass()\n",
        "ckpt_path = \"/content/RINE-extended/ckpt/RINE_multiclass_SIDA_dataset.pth\"\n",
        "model = get_our_trained_model(device=device,ckpt_path=ckpt_path)\n",
        "model.to(device).eval();"
      ]
    },
    {
      "cell_type": "code",
      "execution_count": null,
      "id": "K-7FHdVLHH6h",
      "metadata": {
        "colab": {
          "base_uri": "https://localhost:8080/"
        },
        "id": "K-7FHdVLHH6h",
        "outputId": "b2e24a34-fd86-4fd5-9847-abd72cb6a2f6"
      },
      "outputs": [
        {
          "name": "stdout",
          "output_type": "stream",
          "text": [
            "real image - prob. to be fake: 35.6%\n"
          ]
        }
      ],
      "source": [
        "real_path = \"/content/RINE-extended/demo/aadlygmazf.jpg\"\n",
        "real_image = Image.open(real_path).convert(\"RGB\")\n",
        "real_image_mask = None\n",
        "real_image, real_image_mask = mask_aware_crop(real_image, real_image_mask) # inserted here mask aware crop\n",
        "real_tensor = transforms_test(real_image).unsqueeze(0).to(device)\n",
        "real_logit , _ = model(real_tensor)\n",
        "#real_probability = torch.sigmoid(real_logit)\n",
        "\n",
        "real_probabilities = F.softmax(real_logit, dim=1)\n",
        "\n",
        "# print(\n",
        "#     f\"real image - prob. to be fake: {real_probability.detach().cpu().numpy()[0][0]*100:1.1f}%\"\n",
        "# )"
      ]
    },
    {
      "cell_type": "code",
      "execution_count": null,
      "id": "31c1944d",
      "metadata": {},
      "outputs": [],
      "source": [
        "# Move to numpy for inspection\n",
        "real_probabilities = real_probabilities.detach().cpu().numpy()[0]\n",
        "\n",
        "# Print nicely\n",
        "for cls_id, prob in enumerate(real_probabilities):\n",
        "    print(f\"class {cls_id}: {prob*100:.1f}%\")\n",
        "\n",
        "# To have the predicte class\n",
        "pred_class = real_probabilities.argmax()\n",
        "print(f\"Predicted class: {pred_class}\")"
      ]
    },
    {
      "cell_type": "markdown",
      "id": "c7b1b9a6",
      "metadata": {},
      "source": [
        "# STILL TO MODIFY THINGS BELOW HERE FOR MULTICLASS!"
      ]
    },
    {
      "cell_type": "code",
      "execution_count": 7,
      "id": "g-qT-wV9Ok4v",
      "metadata": {
        "id": "g-qT-wV9Ok4v"
      },
      "outputs": [],
      "source": [
        "def get_token_importance(model, x): # should return the feature, per each transformer block, weighted by TIE\n",
        "\n",
        "    g = torch.stack([h.output for h in model.hooks], dim=2)[0, :, :, :]  # [tokens, batch, blocks, dim], with [0, :, :, :] I take only the CLS, [1:, :, :, :] I tkae the others\n",
        "\n",
        "    print(f\"Shape of g:{g.shape}\") # to confirm if i'm taking only the cls or not\n",
        "\n",
        "    g = model.proj1(g.float()) # remains of the same size\n",
        "\n",
        "    # apply alpha weights\n",
        "    weights = F.softmax(model.alpha, dim=1)[0]\n",
        "    contrib = g * weights\n",
        "    return contrib.cpu().detach().numpy()"
      ]
    },
    {
      "cell_type": "code",
      "execution_count": 8,
      "id": "U02qEUFBjOjR",
      "metadata": {
        "id": "U02qEUFBjOjR"
      },
      "outputs": [],
      "source": [
        "def map_to_image(block_map, image_size):\n",
        "    heatmap = cv2.resize(block_map, image_size, interpolation=cv2.INTER_CUBIC)\n",
        "    # normalize 0–1\n",
        "    heatmap = (heatmap - heatmap.min()) / (heatmap.max() - heatmap.min() + 1e-6)\n",
        "    return heatmap"
      ]
    },
    {
      "cell_type": "code",
      "execution_count": 9,
      "id": "cuPbHEyujPSv",
      "metadata": {
        "id": "cuPbHEyujPSv"
      },
      "outputs": [],
      "source": [
        "def overlay_heatmap(img, heatmap, alpha=0.5):\n",
        "    cmap = cv2.applyColorMap(np.uint8(255 * heatmap), cv2.COLORMAP_JET)\n",
        "    cmap = cv2.cvtColor(cmap, cv2.COLOR_BGR2RGB)\n",
        "    overlay = cv2.addWeighted(np.array(img), 1 - alpha, cmap, alpha, 0)\n",
        "    return overlay"
      ]
    },
    {
      "cell_type": "code",
      "execution_count": 16,
      "id": "5ukno8m9ilu1",
      "metadata": {
        "colab": {
          "base_uri": "https://localhost:8080/"
        },
        "id": "5ukno8m9ilu1",
        "outputId": "5ef59f84-2029-4785-846c-44f1e8a5a099"
      },
      "outputs": [
        {
          "name": "stdout",
          "output_type": "stream",
          "text": [
            "Shape of g:torch.Size([1, 24, 1024])\n",
            "(1, 24)\n"
          ]
        }
      ],
      "source": [
        "contrib = get_token_importance(model, real_tensor)\n",
        "contrib_map = np.linalg.norm(contrib, axis=-1) # this will collapse the embedding dim having only a matrix/vector for the contribution\n",
        "#grid_size = int(np.sqrt(contrib_map.shape[0])) # useful only if considering all the other tokens and not only CLS\n",
        "print(contrib_map.shape)"
      ]
    },
    {
      "cell_type": "code",
      "execution_count": 11,
      "id": "HWWdhPh7zJSj",
      "metadata": {
        "id": "HWWdhPh7zJSj"
      },
      "outputs": [],
      "source": [
        "# ONLY WHEN I TAKE ALL THE TOKENS\n",
        "# #block_maps = contrib_map.reshape(grid_size, grid_size, -1) # <- same syntax of below\n",
        "# block_maps = []\n",
        "# for b in range(contrib_map.shape[1]):\n",
        "#     block_map = contrib_map[:, b].reshape(grid_size, grid_size)\n",
        "#     block_maps.append(block_map)\n",
        "# block_maps = np.stack(block_maps)  # [blocks, grid, grid]"
      ]
    },
    {
      "cell_type": "code",
      "execution_count": 23,
      "id": "msjCmNaKxc-3",
      "metadata": {
        "colab": {
          "base_uri": "https://localhost:8080/",
          "height": 449
        },
        "id": "msjCmNaKxc-3",
        "outputId": "f2984d7d-3309-4af0-a6eb-947357a1f7f2"
      },
      "outputs": [
        {
          "data": {
            "image/png": "[encoded data removed]",
            "text/plain": [
              "<Figure size 640x480 with 1 Axes>"
            ]
          },
          "metadata": {},
          "output_type": "display_data"
        }
      ],
      "source": [
        "plt.plot(range(contrib_map.shape[1]),contrib_map.squeeze())\n",
        "plt.xlabel(\"Block\")\n",
        "plt.ylabel(\"CLS importance\")\n",
        "plt.show()"
      ]
    },
    {
      "cell_type": "code",
      "execution_count": 13,
      "id": "dt6JByW9jBYC",
      "metadata": {
        "colab": {
          "base_uri": "https://localhost:8080/",
          "height": 220
        },
        "id": "dt6JByW9jBYC",
        "outputId": "6c44b601-7de1-4d28-9b6c-5f24d69e8c99"
      },
      "outputs": [
        {
          "ename": "NameError",
          "evalue": "name 'block_maps' is not defined",
          "output_type": "error",
          "traceback": [
            "\u001b[0;31m---------------------------------------------------------------------------\u001b[0m",
            "\u001b[0;31mNameError\u001b[0m                                 Traceback (most recent call last)",
            "\u001b[0;32m/tmp/ipython-input-2105165744.py\u001b[0m in \u001b[0;36m<cell line: 0>\u001b[0;34m()\u001b[0m\n\u001b[0;32m----> 1\u001b[0;31m \u001b[0mheatmap\u001b[0m \u001b[0;34m=\u001b[0m \u001b[0mmap_to_image\u001b[0m\u001b[0;34m(\u001b[0m\u001b[0mblock_maps\u001b[0m\u001b[0;34m[\u001b[0m\u001b[0;34m:\u001b[0m\u001b[0;34m,\u001b[0m\u001b[0;34m:\u001b[0m\u001b[0;34m,\u001b[0m\u001b[0;36m0\u001b[0m\u001b[0;34m]\u001b[0m\u001b[0;34m,\u001b[0m \u001b[0mreal_image\u001b[0m\u001b[0;34m.\u001b[0m\u001b[0msize\u001b[0m\u001b[0;34m)\u001b[0m\u001b[0;34m\u001b[0m\u001b[0;34m\u001b[0m\u001b[0m\n\u001b[0m\u001b[1;32m      2\u001b[0m \u001b[0moverlay\u001b[0m \u001b[0;34m=\u001b[0m \u001b[0moverlay_heatmap\u001b[0m\u001b[0;34m(\u001b[0m\u001b[0mreal_image\u001b[0m\u001b[0;34m,\u001b[0m \u001b[0mheatmap\u001b[0m\u001b[0;34m,\u001b[0m \u001b[0malpha\u001b[0m\u001b[0;34m=\u001b[0m\u001b[0;36m0.5\u001b[0m\u001b[0;34m)\u001b[0m\u001b[0;34m\u001b[0m\u001b[0;34m\u001b[0m\u001b[0m\n\u001b[1;32m      3\u001b[0m \u001b[0;34m\u001b[0m\u001b[0m\n\u001b[1;32m      4\u001b[0m \u001b[0mplt\u001b[0m\u001b[0;34m.\u001b[0m\u001b[0mimshow\u001b[0m\u001b[0;34m(\u001b[0m\u001b[0moverlay\u001b[0m\u001b[0;34m)\u001b[0m\u001b[0;34m\u001b[0m\u001b[0;34m\u001b[0m\u001b[0m\n\u001b[1;32m      5\u001b[0m \u001b[0mplt\u001b[0m\u001b[0;34m.\u001b[0m\u001b[0maxis\u001b[0m\u001b[0;34m(\u001b[0m\u001b[0;34m\"off\"\u001b[0m\u001b[0;34m)\u001b[0m\u001b[0;34m\u001b[0m\u001b[0;34m\u001b[0m\u001b[0m\n",
            "\u001b[0;31mNameError\u001b[0m: name 'block_maps' is not defined"
          ]
        }
      ],
      "source": [
        "heatmap = map_to_image(block_maps[:,:,0], real_image.size)\n",
        "overlay = overlay_heatmap(real_image, heatmap, alpha=0.5)\n",
        "\n",
        "plt.imshow(overlay)\n",
        "plt.axis(\"off\")\n",
        "plt.show()"
      ]
    },
    {
      "cell_type": "code",
      "execution_count": null,
      "id": "7181e560",
      "metadata": {
        "id": "7181e560",
        "vscode": {
          "languageId": "plaintext"
        }
      },
      "outputs": [],
      "source": [
        "# fake_path = \"/content/RINE-extended/demo/zzrybysskm.jpg\"\n",
        "# fake_image = Image.open(fake_path).convert(\"RGB\")\n",
        "# fake_tensor = transforms(fake_image).unsqueeze(0).to(device)\n",
        "# fake_logit = model(fake_tensor)[0]\n",
        "# fake_probability = torch.sigmoid(fake_logit)\n",
        "# print(\n",
        "#     f\"fake image - prob. to be fake: {fake_probability.detach().cpu().numpy()[0][0]*100:1.1f}%\"\n",
        "# )\n"
      ]
    }
  ],
  "metadata": {
    "accelerator": "GPU",
    "colab": {
      "gpuType": "T4",
      "provenance": []
    },
    "kernelspec": {
      "display_name": "Python 3",
      "name": "python3"
    },
    "language_info": {
      "name": "python"
    }
  },
  "nbformat": 4,
  "nbformat_minor": 5
}
