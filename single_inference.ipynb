{
 "cells": [
  {
   "cell_type": "code",
   "execution_count": null,
   "id": "fbe02499",
   "metadata": {
    "vscode": {
     "languageId": "plaintext"
    }
   },
   "outputs": [],
   "source": [
    "!git clone https://github.com/MarkBridge11/RINE-extended"
   ]
  },
  {
   "cell_type": "code",
   "execution_count": null,
   "id": "57320b29",
   "metadata": {
    "vscode": {
     "languageId": "plaintext"
    }
   },
   "outputs": [],
   "source": [
    "import sys\n",
    "sys.path.append('/content/RINE-extended')"
   ]
  },
  {
   "cell_type": "code",
   "execution_count": null,
   "id": "2acd2c4f",
   "metadata": {
    "vscode": {
     "languageId": "plaintext"
    }
   },
   "outputs": [],
   "source": [
    "!pip install scikit-image imageio kornia"
   ]
  },
  {
   "cell_type": "code",
   "execution_count": null,
   "id": "62f107c5",
   "metadata": {
    "vscode": {
     "languageId": "plaintext"
    }
   },
   "outputs": [],
   "source": [
    "import sys\n",
    "import os\n",
    "from src.utils import get_transforms, get_our_trained_model\n",
    "from PIL import Image\n",
    "import torch"
   ]
  },
  {
   "cell_type": "code",
   "execution_count": null,
   "id": "fe5677a9",
   "metadata": {
    "vscode": {
     "languageId": "plaintext"
    }
   },
   "outputs": [],
   "source": [
    "device = torch.device(\"cuda\" if torch.cuda.is_available() else \"cpu\")\n",
    "_, transforms, _ = get_transforms()\n",
    "model = get_our_trained_model(ncls=\"ldm\", device=device)\n",
    "model.to(device)\n",
    "model.eval()"
   ]
  },
  {
   "cell_type": "code",
   "execution_count": null,
   "id": "7181e560",
   "metadata": {
    "vscode": {
     "languageId": "plaintext"
    }
   },
   "outputs": [],
   "source": [
    "real_path = \"demo/aadlygmazf.jpg\"\n",
    "real_image = Image.open(real_path).convert(\"RGB\")\n",
    "real_tensor = transforms(real_image).unsqueeze(0).to(device)\n",
    "real_logit = model(real_tensor)[0]\n",
    "real_probability = torch.sigmoid(real_logit)\n",
    "print(\n",
    "    f\"real image - prob. to be fake: {real_probability.detach().cpu().numpy()[0][0]*100:1.1f}%\"\n",
    ")\n",
    "\n",
    "fake_path = \"demo/zzrybysskm.jpg\"\n",
    "fake_image = Image.open(fake_path).convert(\"RGB\")\n",
    "fake_tensor = transforms(fake_image).unsqueeze(0).to(device)\n",
    "fake_logit = model(fake_tensor)[0]\n",
    "fake_probability = torch.sigmoid(fake_logit)\n",
    "print(\n",
    "    f\"fake image - prob. to be fake: {fake_probability.detach().cpu().numpy()[0][0]*100:1.1f}%\"\n",
    ")\n"
   ]
  }
 ],
 "metadata": {
  "language_info": {
   "name": "python"
  }
 },
 "nbformat": 4,
 "nbformat_minor": 5
}
